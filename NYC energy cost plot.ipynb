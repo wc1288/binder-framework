{
 "cells": [
  {
   "cell_type": "code",
   "execution_count": 26,
   "id": "b1435b28",
   "metadata": {},
   "outputs": [],
   "source": [
    "import matplotlib.pyplot as plt \n",
    "import pandas as pd"
   ]
  },
  {
   "cell_type": "code",
   "execution_count": 29,
   "id": "91664ce0",
   "metadata": {},
   "outputs": [],
   "source": [
    "df = pd.read_csv('Results.csv')"
   ]
  },
  {
   "cell_type": "code",
   "execution_count": 30,
   "id": "ee91ed94",
   "metadata": {},
   "outputs": [
    {
     "data": {
      "text/html": [
       "<div>\n",
       "<style scoped>\n",
       "    .dataframe tbody tr th:only-of-type {\n",
       "        vertical-align: middle;\n",
       "    }\n",
       "\n",
       "    .dataframe tbody tr th {\n",
       "        vertical-align: top;\n",
       "    }\n",
       "\n",
       "    .dataframe thead th {\n",
       "        text-align: right;\n",
       "    }\n",
       "</style>\n",
       "<table border=\"1\" class=\"dataframe\">\n",
       "  <thead>\n",
       "    <tr style=\"text-align: right;\">\n",
       "      <th></th>\n",
       "      <th>Unnamed: 0</th>\n",
       "      <th>NTA</th>\n",
       "      <th>total_jobs_created</th>\n",
       "      <th>average_total_savings</th>\n",
       "    </tr>\n",
       "  </thead>\n",
       "  <tbody>\n",
       "    <tr>\n",
       "      <th>0</th>\n",
       "      <td>0</td>\n",
       "      <td>Battery Park City-Lower Manhattan</td>\n",
       "      <td>0.0</td>\n",
       "      <td>469890.796667</td>\n",
       "    </tr>\n",
       "    <tr>\n",
       "      <th>1</th>\n",
       "      <td>1</td>\n",
       "      <td>Bushwick South</td>\n",
       "      <td>10.0</td>\n",
       "      <td>26140.455000</td>\n",
       "    </tr>\n",
       "    <tr>\n",
       "      <th>2</th>\n",
       "      <td>2</td>\n",
       "      <td>Carroll Gardens-Columbia Street-Red Hook</td>\n",
       "      <td>0.0</td>\n",
       "      <td>24337.390000</td>\n",
       "    </tr>\n",
       "    <tr>\n",
       "      <th>3</th>\n",
       "      <td>3</td>\n",
       "      <td>College Point</td>\n",
       "      <td>2.0</td>\n",
       "      <td>17159.372857</td>\n",
       "    </tr>\n",
       "    <tr>\n",
       "      <th>4</th>\n",
       "      <td>4</td>\n",
       "      <td>Crown Heights North</td>\n",
       "      <td>0.0</td>\n",
       "      <td>4036.298889</td>\n",
       "    </tr>\n",
       "  </tbody>\n",
       "</table>\n",
       "</div>"
      ],
      "text/plain": [
       "   Unnamed: 0                                       NTA  total_jobs_created  \\\n",
       "0           0         Battery Park City-Lower Manhattan                 0.0   \n",
       "1           1                            Bushwick South                10.0   \n",
       "2           2  Carroll Gardens-Columbia Street-Red Hook                 0.0   \n",
       "3           3                             College Point                 2.0   \n",
       "4           4                       Crown Heights North                 0.0   \n",
       "\n",
       "   average_total_savings  \n",
       "0          469890.796667  \n",
       "1           26140.455000  \n",
       "2           24337.390000  \n",
       "3           17159.372857  \n",
       "4            4036.298889  "
      ]
     },
     "execution_count": 30,
     "metadata": {},
     "output_type": "execute_result"
    }
   ],
   "source": [
    "df.head()"
   ]
  },
  {
   "cell_type": "markdown",
   "id": "56755816",
   "metadata": {},
   "source": [
    "**Q1:scatter plot of jobs created versus average savings. Use both a standard and a logarithmic scale for the average savings.**"
   ]
  },
  {
   "cell_type": "code",
   "execution_count": 31,
   "id": "d5c724c8",
   "metadata": {},
   "outputs": [
    {
     "data": {
      "text/plain": [
       "Text(0, 0.5, 'Average Savings')"
      ]
     },
     "execution_count": 31,
     "metadata": {},
     "output_type": "execute_result"
    },
    {
     "data": {
      "image/png": "[encoded data removed]",
      "text/plain": [
       "<Figure size 432x288 with 1 Axes>"
      ]
     },
     "metadata": {
      "needs_background": "light"
     },
     "output_type": "display_data"
    }
   ],
   "source": [
    "plt.scatter(df.total_jobs_created, df.average_total_savings)\n",
    "plt.xlabel('Job Created')\n",
    "plt.ylabel('Average Savings')"
   ]
  },
  {
   "cell_type": "code",
   "execution_count": 32,
   "id": "4147168b",
   "metadata": {},
   "outputs": [
    {
     "data": {
      "image/png": "[encoded data removed]",
      "text/plain": [
       "<Figure size 432x288 with 1 Axes>"
      ]
     },
     "metadata": {
      "needs_background": "light"
     },
     "output_type": "display_data"
    }
   ],
   "source": [
    "plt.scatter(df.total_jobs_created, df.average_total_savings)\n",
    "plt.xlabel('Job Created')\n",
    "plt.ylabel('log (Average Savings)')\n",
    "plt.yscale('log')"
   ]
  },
  {
   "cell_type": "markdown",
   "id": "b2fe095b",
   "metadata": {},
   "source": [
    "**Q2:histogram of the log of the average total savings.**"
   ]
  },
  {
   "cell_type": "code",
   "execution_count": 33,
   "id": "5e6cef51",
   "metadata": {},
   "outputs": [
    {
     "data": {
      "image/png": "[encoded data removed]",
      "text/plain": [
       "<Figure size 432x288 with 1 Axes>"
      ]
     },
     "metadata": {
      "needs_background": "light"
     },
     "output_type": "display_data"
    }
   ],
   "source": [
    "hist, bins, _ = plt.hist(df.average_total_savings, bins=8)"
   ]
  },
  {
   "cell_type": "code",
   "execution_count": 34,
   "id": "0234dbcd",
   "metadata": {},
   "outputs": [
    {
     "data": {
      "image/png": "[encoded data removed]",
      "text/plain": [
       "<Figure size 432x288 with 1 Axes>"
      ]
     },
     "metadata": {
      "needs_background": "light"
     },
     "output_type": "display_data"
    }
   ],
   "source": [
    "import numpy as np\n",
    "\n",
    "## plt.hist(df.average_total_savings, bins=100)\n",
    "logbins = np.logspace(np.log10(bins[0]),np.log10(bins[-1]),len(bins))\n",
    "plt.figure()\n",
    "plt.hist(df.average_total_savings, bins=logbins)\n",
    "plt.xlabel('log (Average Savings)')\n",
    "plt.xscale('log')"
   ]
  },
  {
   "cell_type": "markdown",
   "id": "21fe696d",
   "metadata": {},
   "source": [
    "**Q3:line plot of the total jobs created for each month.**"
   ]
  },
  {
   "cell_type": "code",
   "execution_count": 48,
   "id": "ddb8b592",
   "metadata": {},
   "outputs": [],
   "source": [
    "df2 = pd.read_csv('Value_of_Energy_Cost_Savings_Program_Savings_for_Businesses_-_FY2020.csv')"
   ]
  },
  {
   "cell_type": "code",
   "execution_count": 49,
   "id": "0bfbe989",
   "metadata": {},
   "outputs": [],
   "source": [
    "df2['month'] = pd.to_datetime(df2['Effective Date']).dt.month"
   ]
  },
  {
   "cell_type": "code",
   "execution_count": 50,
   "id": "a3405f45",
   "metadata": {},
   "outputs": [],
   "source": [
    "df2 = df2.groupby('month').sum().reset_index()"
   ]
  },
  {
   "cell_type": "code",
   "execution_count": 51,
   "id": "dc0445c4",
   "metadata": {},
   "outputs": [
    {
     "data": {
      "text/html": [
       "<div>\n",
       "<style scoped>\n",
       "    .dataframe tbody tr th:only-of-type {\n",
       "        vertical-align: middle;\n",
       "    }\n",
       "\n",
       "    .dataframe tbody tr th {\n",
       "        vertical-align: top;\n",
       "    }\n",
       "\n",
       "    .dataframe thead th {\n",
       "        text-align: right;\n",
       "    }\n",
       "</style>\n",
       "<table border=\"1\" class=\"dataframe\">\n",
       "  <thead>\n",
       "    <tr style=\"text-align: right;\">\n",
       "      <th></th>\n",
       "      <th>month</th>\n",
       "      <th>Postcode</th>\n",
       "      <th>Current fulltime</th>\n",
       "      <th>Job created</th>\n",
       "      <th>Job retain</th>\n",
       "      <th>Total Savings</th>\n",
       "      <th>Savings from beginning receiving benefits</th>\n",
       "      <th>Latitude</th>\n",
       "      <th>Longitude</th>\n",
       "      <th>Community Board</th>\n",
       "      <th>Council District</th>\n",
       "      <th>Census Tract</th>\n",
       "      <th>BIN</th>\n",
       "      <th>BBL</th>\n",
       "    </tr>\n",
       "  </thead>\n",
       "  <tbody>\n",
       "    <tr>\n",
       "      <th>0</th>\n",
       "      <td>1</td>\n",
       "      <td>425022</td>\n",
       "      <td>5148.0</td>\n",
       "      <td>0.0</td>\n",
       "      <td>4.0</td>\n",
       "      <td>1636975.56</td>\n",
       "      <td>14762104.69</td>\n",
       "      <td>1507.189909</td>\n",
       "      <td>-2735.605314</td>\n",
       "      <td>11216.0</td>\n",
       "      <td>894.0</td>\n",
       "      <td>79886.0</td>\n",
       "      <td>107242663.0</td>\n",
       "      <td>1.048498e+11</td>\n",
       "    </tr>\n",
       "    <tr>\n",
       "      <th>1</th>\n",
       "      <td>2</td>\n",
       "      <td>449558</td>\n",
       "      <td>2612.0</td>\n",
       "      <td>27.0</td>\n",
       "      <td>290.0</td>\n",
       "      <td>687503.49</td>\n",
       "      <td>7299118.59</td>\n",
       "      <td>1507.152057</td>\n",
       "      <td>-2735.596594</td>\n",
       "      <td>11090.0</td>\n",
       "      <td>995.0</td>\n",
       "      <td>86858.0</td>\n",
       "      <td>103745005.0</td>\n",
       "      <td>9.975810e+10</td>\n",
       "    </tr>\n",
       "    <tr>\n",
       "      <th>2</th>\n",
       "      <td>3</td>\n",
       "      <td>420921</td>\n",
       "      <td>4235.0</td>\n",
       "      <td>20.0</td>\n",
       "      <td>96.0</td>\n",
       "      <td>865753.18</td>\n",
       "      <td>12884844.13</td>\n",
       "      <td>1547.148797</td>\n",
       "      <td>-2809.947307</td>\n",
       "      <td>12091.0</td>\n",
       "      <td>1106.0</td>\n",
       "      <td>88633.0</td>\n",
       "      <td>125282728.0</td>\n",
       "      <td>1.200335e+11</td>\n",
       "    </tr>\n",
       "    <tr>\n",
       "      <th>3</th>\n",
       "      <td>4</td>\n",
       "      <td>411602</td>\n",
       "      <td>1861.0</td>\n",
       "      <td>2.0</td>\n",
       "      <td>5.0</td>\n",
       "      <td>701164.67</td>\n",
       "      <td>9141496.41</td>\n",
       "      <td>1302.624864</td>\n",
       "      <td>-2365.512611</td>\n",
       "      <td>10653.0</td>\n",
       "      <td>928.0</td>\n",
       "      <td>143450.0</td>\n",
       "      <td>111526249.0</td>\n",
       "      <td>1.060398e+11</td>\n",
       "    </tr>\n",
       "    <tr>\n",
       "      <th>4</th>\n",
       "      <td>5</td>\n",
       "      <td>280248</td>\n",
       "      <td>1680.0</td>\n",
       "      <td>2.0</td>\n",
       "      <td>516.0</td>\n",
       "      <td>427441.59</td>\n",
       "      <td>7325100.37</td>\n",
       "      <td>976.976865</td>\n",
       "      <td>-1774.758931</td>\n",
       "      <td>8312.0</td>\n",
       "      <td>766.0</td>\n",
       "      <td>8200.0</td>\n",
       "      <td>87243043.0</td>\n",
       "      <td>8.256157e+10</td>\n",
       "    </tr>\n",
       "  </tbody>\n",
       "</table>\n",
       "</div>"
      ],
      "text/plain": [
       "   month  Postcode  Current fulltime  Job created  Job retain  Total Savings  \\\n",
       "0      1    425022            5148.0          0.0         4.0     1636975.56   \n",
       "1      2    449558            2612.0         27.0       290.0      687503.49   \n",
       "2      3    420921            4235.0         20.0        96.0      865753.18   \n",
       "3      4    411602            1861.0          2.0         5.0      701164.67   \n",
       "4      5    280248            1680.0          2.0       516.0      427441.59   \n",
       "\n",
       "   Savings from beginning receiving benefits     Latitude    Longitude  \\\n",
       "0                                14762104.69  1507.189909 -2735.605314   \n",
       "1                                 7299118.59  1507.152057 -2735.596594   \n",
       "2                                12884844.13  1547.148797 -2809.947307   \n",
       "3                                 9141496.41  1302.624864 -2365.512611   \n",
       "4                                 7325100.37   976.976865 -1774.758931   \n",
       "\n",
       "   Community Board  Council District  Census Tract          BIN           BBL  \n",
       "0          11216.0             894.0       79886.0  107242663.0  1.048498e+11  \n",
       "1          11090.0             995.0       86858.0  103745005.0  9.975810e+10  \n",
       "2          12091.0            1106.0       88633.0  125282728.0  1.200335e+11  \n",
       "3          10653.0             928.0      143450.0  111526249.0  1.060398e+11  \n",
       "4           8312.0             766.0        8200.0   87243043.0  8.256157e+10  "
      ]
     },
     "execution_count": 51,
     "metadata": {},
     "output_type": "execute_result"
    }
   ],
   "source": [
    "df2.head()"
   ]
  },
  {
   "cell_type": "code",
   "execution_count": 61,
   "id": "7436ad12",
   "metadata": {},
   "outputs": [
    {
     "data": {
      "text/plain": [
       "(1.0, 12.0, 0.0, 80.0)"
      ]
     },
     "execution_count": 61,
     "metadata": {},
     "output_type": "execute_result"
    },
    {
     "data": {
      "image/png": "[encoded data removed]",
      "text/plain": [
       "<Figure size 432x288 with 1 Axes>"
      ]
     },
     "metadata": {
      "needs_background": "light"
     },
     "output_type": "display_data"
    }
   ],
   "source": [
    "plt.plot(df2.month, df2['Job created'])\n",
    "plt.xlabel('Month')\n",
    "plt.ylabel('Total Job Created')\n",
    "plt.xticks(np.arange(1,13,1));\n",
    "plt.axis([1, 12, 0, 80])"
   ]
  },
  {
   "cell_type": "code",
   "execution_count": null,
   "id": "604a0f4d",
   "metadata": {},
   "outputs": [],
   "source": []
  }
 ],
 "metadata": {
  "kernelspec": {
   "display_name": "Python 3 (ipykernel)",
   "language": "python",
   "name": "python3"
  },
  "language_info": {
   "codemirror_mode": {
    "name": "ipython",
    "version": 3
   },
   "file_extension": ".py",
   "mimetype": "text/x-python",
   "name": "python",
   "nbconvert_exporter": "python",
   "pygments_lexer": "ipython3",
   "version": "3.9.1"
  }
 },
 "nbformat": 4,
 "nbformat_minor": 5
}
